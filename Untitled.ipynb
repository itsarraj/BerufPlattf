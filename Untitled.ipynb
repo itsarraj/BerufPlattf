{
 "cells": [
  {
   "cell_type": "code",
   "execution_count": 1,
   "id": "713ccbed-a5fd-4c2f-a387-47e9e60268ec",
   "metadata": {},
   "outputs": [
    {
     "data": {
      "text/plain": [
       "'/home/plutonium/personal/BerufPlattf'"
      ]
     },
     "execution_count": 1,
     "metadata": {},
     "output_type": "execute_result"
    }
   ],
   "source": [
    "pwd"
   ]
  },
  {
   "cell_type": "code",
   "execution_count": 2,
   "id": "c6654f27-7553-433c-bcdb-8d3d8066a5da",
   "metadata": {},
   "outputs": [
    {
     "name": "stdout",
     "output_type": "stream",
     "text": [
      "/home/plutonium/personal/BerufPlattf/ai_microservice\n"
     ]
    }
   ],
   "source": [
    "cd ai_microservice/"
   ]
  },
  {
   "cell_type": "code",
   "execution_count": 3,
   "id": "1ef04af2-0dc4-493e-b38d-9cb1ae5775e0",
   "metadata": {},
   "outputs": [
    {
     "ename": "ModuleNotFoundError",
     "evalue": "No module named 'fastapi'",
     "output_type": "error",
     "traceback": [
      "\u001b[31m---------------------------------------------------------------------------\u001b[39m",
      "\u001b[31mModuleNotFoundError\u001b[39m                       Traceback (most recent call last)",
      "\u001b[36mCell\u001b[39m\u001b[36m \u001b[39m\u001b[32mIn[3]\u001b[39m\u001b[32m, line 1\u001b[39m\n\u001b[32m----> \u001b[39m\u001b[32m1\u001b[39m \u001b[38;5;28;01mfrom\u001b[39;00m\u001b[38;5;250m \u001b[39m\u001b[34;01mfastapi\u001b[39;00m\u001b[38;5;250m \u001b[39m\u001b[38;5;28;01mimport\u001b[39;00m FastAPI, File, UploadFile, HTTPException\n\u001b[32m      2\u001b[39m \u001b[38;5;28;01mfrom\u001b[39;00m\u001b[38;5;250m \u001b[39m\u001b[34;01mpydantic\u001b[39;00m\u001b[38;5;250m \u001b[39m\u001b[38;5;28;01mimport\u001b[39;00m BaseModel\n\u001b[32m      3\u001b[39m \u001b[38;5;28;01mfrom\u001b[39;00m\u001b[38;5;250m \u001b[39m\u001b[34;01mtyping\u001b[39;00m\u001b[38;5;250m \u001b[39m\u001b[38;5;28;01mimport\u001b[39;00m List, Dict\n",
      "\u001b[31mModuleNotFoundError\u001b[39m: No module named 'fastapi'"
     ]
    }
   ],
   "source": [
    "from fastapi import FastAPI, File, UploadFile, HTTPException\n",
    "from pydantic import BaseModel\n",
    "from typing import List, Dict\n",
    "import numpy as np\n",
    "from sentence_transformers import SentenceTransformer\n",
    "from .model import Embedder\n",
    "from .resume_parser import parse\n",
    "import sys\n",
    "\n",
    "print(f\"Python executable: {sys.executable}\")\n",
    "print(f\"Python path: {sys.path}\")\n",
    "\n",
    "app = FastAPI(\n",
    "    title=\"AI Job Matching Service\",\n",
    "    description=\"Microservice for resume parsing and job matching\",\n",
    "    version=\"1.0.0\"\n",
    ")\n",
    "\n",
    "# Initialize models\n",
    "embedder = Embedder()\n",
    "matcher_model = SentenceTransformer('all-MiniLM-L6-v2')\n",
    "\n",
    "class MatchRequest(BaseModel):\n",
    "    job_description: str\n",
    "    resume_texts: List[str]\n",
    "    top_n: int = 5\n",
    "\n",
    "class JobVectorRequest(BaseModel):\n",
    "    job_description: str\n",
    "\n",
    "@app.post(\"/parse-resume\")\n",
    "async def parse_resume(file: UploadFile = File(...)):\n",
    "    \"\"\"Parse uploaded resume file\"\"\"\n",
    "    try:\n",
    "        contents = await file.read()\n",
    "        return parse(contents, file.filename)\n",
    "    except Exception as e:\n",
    "        raise HTTPException(500, f\"Resume parsing failed: {str(e)}\")\n",
    "\n",
    "@app.post(\"/match\")\n",
    "async def match_job_resumes(request: MatchRequest):\n",
    "    \"\"\"Match job description with multiple resumes\"\"\"\n",
    "    try:\n",
    "        # Generate embeddings\n",
    "        job_vector = matcher_model.encode([request.job_description])[0]\n",
    "        resume_vectors = matcher_model.encode(request.resume_texts)\n",
    "\n",
    "        # Calculate cosine similarities\n",
    "        scores = []\n",
    "        for i, vec in enumerate(resume_vectors):\n",
    "            sim = np.dot(job_vector, vec) / (np.linalg.norm(job_vector) * np.linalg.norm(vec))\n",
    "            scores.append({\n",
    "                'index': i,\n",
    "                'score': float(sim),\n",
    "                'percent': round(float(sim) * 100, 1)\n",
    "            })\n",
    "\n",
    "        # Sort and get top matches\n",
    "        sorted_scores = sorted(scores, key=lambda x: x['score'], reverse=True)\n",
    "        return {'matches': sorted_scores[:request.top_n]}\n",
    "    except Exception as e:\n",
    "        raise HTTPException(500, f\"Matching failed: {str(e)}\")\n",
    "\n",
    "@app.post(\"/embed-job\")\n",
    "async def embed_job(request: JobVectorRequest):\n",
    "    \"\"\"Generate embedding vector for a job description\"\"\"\n",
    "    try:\n",
    "        vector = embedder.embed([request.job_description])[0]\n",
    "        return {'vector': vector}\n",
    "    except Exception as e:\n",
    "        raise HTTPException(500, f\"Embedding failed: {str(e)}\")\n",
    "\n",
    "@app.post(\"/embed-resume\")\n",
    "async def embed_resume(text: str):\n",
    "    \"\"\"Generate embedding vector for resume text\"\"\"\n",
    "    try:\n",
    "        vector = embedder.embed([text])[0]\n",
    "        return {'vector': vector}\n",
    "    except Exception as e:\n",
    "        raise HTTPException(500, f\"Embedding failed: {str(e)}\")\n",
    "        "
   ]
  },
  {
   "cell_type": "code",
   "execution_count": 4,
   "id": "b7efee38-fe57-4238-9dd5-7541d4c22e7c",
   "metadata": {},
   "outputs": [
    {
     "name": "stdout",
     "output_type": "stream",
     "text": [
      "Collecting fastapi (from -r requirements.txt (line 1))\n",
      "  Downloading fastapi-0.115.12-py3-none-any.whl.metadata (27 kB)\n",
      "Collecting uvicorn (from -r requirements.txt (line 2))\n",
      "  Downloading uvicorn-0.34.2-py3-none-any.whl.metadata (6.5 kB)\n",
      "Requirement already satisfied: sentence-transformers in /home/plutonium/.conda/envs/matchai/lib/python3.11/site-packages (from -r requirements.txt (line 3)) (4.1.0)\n",
      "Requirement already satisfied: numpy in /home/plutonium/.conda/envs/matchai/lib/python3.11/site-packages (from -r requirements.txt (line 4)) (2.2.6)\n",
      "Collecting python-multipart (from -r requirements.txt (line 5))\n",
      "  Downloading python_multipart-0.0.20-py3-none-any.whl.metadata (1.8 kB)\n",
      "Collecting pdfminer.six (from -r requirements.txt (line 6))\n",
      "  Downloading pdfminer_six-20250506-py3-none-any.whl.metadata (4.2 kB)\n",
      "Collecting docx2txt (from -r requirements.txt (line 7))\n",
      "  Downloading docx2txt-0.9-py3-none-any.whl.metadata (529 bytes)\n",
      "Collecting textract (from -r requirements.txt (line 8))\n",
      "  Downloading textract-1.6.5-py3-none-any.whl.metadata (2.5 kB)\n",
      "\u001b[33mWARNING: Ignoring version 1.6.5 of textract since it has invalid metadata:\n",
      "Requested textract from https://files.pythonhosted.org/packages/6b/3e/ac16b6bf28edf78296aea7d0cb416b49ed30282ac8c711662541015ee6f3/textract-1.6.5-py3-none-any.whl (from -r requirements.txt (line 8)) has invalid metadata: .* suffix can only be used with `==` or `!=` operators\n",
      "    extract-msg (<=0.29.*)\n",
      "                 ~~~~~~~^\n",
      "Please use pip<24.1 if you need to use this version.\u001b[0m\u001b[33m\n",
      "\u001b[0m  Downloading textract-1.6.4.tar.gz (17 kB)\n",
      "  Preparing metadata (setup.py) ... \u001b[?25lerror\n",
      "  \u001b[1;31merror\u001b[0m: \u001b[1msubprocess-exited-with-error\u001b[0m\n",
      "  \n",
      "  \u001b[31m×\u001b[0m \u001b[32mpython setup.py egg_info\u001b[0m did not run successfully.\n",
      "  \u001b[31m│\u001b[0m exit code: \u001b[1;36m1\u001b[0m\n",
      "  \u001b[31m╰─>\u001b[0m \u001b[31m[3 lines of output]\u001b[0m\n",
      "  \u001b[31m   \u001b[0m error in textract setup command: 'install_requires' must be a string or iterable of strings containing valid project/version requirement specifiers; .* suffix can only be used with `==` or `!=` operators\n",
      "  \u001b[31m   \u001b[0m     extract-msg<=0.29.*\n",
      "  \u001b[31m   \u001b[0m                ~~~~~~~^\n",
      "  \u001b[31m   \u001b[0m \u001b[31m[end of output]\u001b[0m\n",
      "  \n",
      "  \u001b[1;35mnote\u001b[0m: This error originates from a subprocess, and is likely not a problem with pip.\n",
      "\u001b[1;31merror\u001b[0m: \u001b[1mmetadata-generation-failed\u001b[0m\n",
      "\n",
      "\u001b[31m×\u001b[0m Encountered error while generating package metadata.\n",
      "\u001b[31m╰─>\u001b[0m See above for output.\n",
      "\n",
      "\u001b[1;35mnote\u001b[0m: This is an issue with the package mentioned above, not pip.\n",
      "\u001b[1;36mhint\u001b[0m: See above for details.\n",
      "\u001b[?25hNote: you may need to restart the kernel to use updated packages.\n"
     ]
    }
   ],
   "source": [
    "pip install -r requirements.txt\n"
   ]
  },
  {
   "cell_type": "code",
   "execution_count": null,
   "id": "ab6abb9a-d8de-40f3-afab-d4ee19152bb2",
   "metadata": {},
   "outputs": [],
   "source": []
  }
 ],
 "metadata": {
  "kernelspec": {
   "display_name": "Python 3 (ipykernel)",
   "language": "python",
   "name": "python3"
  },
  "language_info": {
   "codemirror_mode": {
    "name": "ipython",
    "version": 3
   },
   "file_extension": ".py",
   "mimetype": "text/x-python",
   "name": "python",
   "nbconvert_exporter": "python",
   "pygments_lexer": "ipython3",
   "version": "3.11.11"
  }
 },
 "nbformat": 4,
 "nbformat_minor": 5
}
